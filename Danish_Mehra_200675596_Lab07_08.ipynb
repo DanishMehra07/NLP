{
  "nbformat": 4,
  "nbformat_minor": 0,
  "metadata": {
    "accelerator": "GPU",
    "colab": {
      "name": "Danish_Mehra_200675596_Lab07/08.ipynb",
      "provenance": [],
      "collapsed_sections": []
    },
    "kernelspec": {
      "display_name": "Python 3",
      "name": "python3"
    }
  },
  "cells": [
    {
      "cell_type": "markdown",
      "metadata": {
        "id": "nZfqzG-psHbd"
      },
      "source": [
        "#**Lab 7: Neural Machine Translation (Extra Guide)**"
      ]
    },
    {
      "cell_type": "markdown",
      "metadata": {
        "id": "r9GBwu1PsSR3"
      },
      "source": [
        "This week, we'll be build a neural machine translation model based on the sequence-to-sequence (seq2seq) models proposed by Sutskever et al., 2014 and Cho et al., 2014. The seq2seq model is widely used in machine translation systems such as Google’s neural machine translation system (GNMT) (Wu et al., 2016).\n",
        "\n",
        "A folder, **nmt_lab_files** has been provided for you. This folder contains 3 files:\n",
        "1. **data.30.vi** - a file. each line of the file contains a Vietnamese sentence to be translated (i.e. the source sentences)\n",
        "2. **data.30.en** - a file. each line of the file contains an English sentence corresponding to the Vietnamese sentence in the same line position. (i.e. the target sentences)\n",
        "3. **nmt_model_keras.py** - the incomplete code for this lab.\n",
        "\n",
        "The doc file provided contains an explanation of the code file and a guide on how to complete the code (by doing 3 tasks). Read the doc file and if you can, complete the code as instructed. When the code is completed, skip to section xx of this notebook. \n",
        "\n",
        "This notebook (prior to section section xx) merely contains further explanation on sections of the code."
      ]
    },
    {
      "cell_type": "markdown",
      "metadata": {
        "id": "KyDvxbvTt70n"
      },
      "source": [
        "##**LanguageDict**\n",
        "\n",
        "LanguageDict is a class for creating language dict objects."
      ]
    },
    {
      "cell_type": "markdown",
      "metadata": {
        "id": "AtHvI1pGvMBG"
      },
      "source": [
        "##**The <load_dataset()> Method**\n",
        "\n",
        "This helper method reads from the source and target files to \n",
        "- load max_num_examples sentences, \n",
        "- split the sentences them into train, development and testing, and\n",
        "- return relevant data.\n",
        "The code for this is fully commented. \n",
        "\n",
        "<br>\n",
        "\n",
        "As an example to the kind of ouput returned by this model, let's assume we are translating the sentence 'I like dogs' from English to English (this of course is never the case), such that the tokenized and case normalized source sentence list and target sentence list are as follows:\n",
        "\n",
        "\n",
        "```\n",
        "# In our case this would actually be [['tôi', 'thích', 'thỏ']], i.e the Vietnamese equivalent of the English sentence. \n",
        "# We've used English to English here so we can follow along with the code.\n",
        "source_words = [['i', 'like', 'rabbits']] \n",
        "target_words = [['i', 'like', 'rabbits']]\n",
        "```\n",
        "The word2ids for the source and target language dictionaries would look something like:\n",
        "```\n",
        "source_dict.word2ids = {'<PAD>': 0, '<UNK>': 1, 'i': 2, 'like': 3, 'rabbits':4}\n",
        "\n",
        "# end and start tokens are added for the target words\n",
        "target_dict.word2ids = {'<PAD>': 0, '<UNK>': 1, '<start>': 2, 'i': 3, 'like': 4, 'rabbits':5, '<end>':6}\n",
        "\n",
        "```\n",
        "Let's also assume that we are training and testing on this same dataset of one sentence.\n",
        "The **source words** for train/dev/test will be given as\n",
        "```\n",
        "# a batch_size X max_sent_length array.\n",
        "source_words_train = [[2,3,4]] # corresponding to ['i', 'like', 'rabbits']\n",
        "source_words_dev = [[2,3,4]]  # corresponding to ['i', 'like', 'rabbits']\n",
        "source_words_test = [[2,3,4]] # corresponding to ['i', 'like', 'rabbits']\n",
        "```\n",
        "\n",
        "The **target words** for train data will be given as follows (dev/test don't need target words as the model will provide this):\n",
        "```\n",
        "target_words_train = [[2,3,4,5]] # corresponding to ['<start>', 'i', 'like', 'rabbits']\n",
        "```\n",
        "\n",
        "The **target words labels** for each word will be the word after it. The target word labels for train/dev/test data will be given as follows\n",
        "```\n",
        "target_words_train_labels = [[3,4,5,6]] # corresponding to ['i', 'like', 'rabbits', '<end>']\n",
        "target_words_dev_labels = [[3,4,5,6]] # corresponding to ['i', 'like', 'rabbits', '<end>']\n",
        "target_words_test_labels = [[3,4,5,6]] # corresponding to ['i', 'like', 'rabbits', '<end>']\n",
        "```\n",
        "The dimensions for train target words labels would be expanded to this:\n",
        "`[[3], [4], [5], [6]]`\n",
        "\n",
        "\n",
        "\n",
        "\n"
      ]
    },
    {
      "cell_type": "markdown",
      "metadata": {
        "id": "cc8KZaJn3uBK"
      },
      "source": [
        "##**The Neural Translation Model (NMT)**\n",
        "\n",
        "For the NMT the network (a system of connected layers/models) used for training differs slightly from the network used for inference. Both use the the seq-to-seq encoder-decoder architecture. \n",
        "\n",
        "\n"
      ]
    },
    {
      "cell_type": "markdown",
      "metadata": {
        "id": "sgtz6XAl4E8D"
      },
      "source": [
        "###**The training mode**\n",
        "\n",
        "**Encoder**\n",
        "\n",
        "Given:\n",
        "- `source_words`: a `batch_size(num_sents) x max_sentence_length` array representing the source words. In our mini example, this would be the Vietnamese equivalent of `['i', 'like', 'rabbits']`; `[['tôi', 'thích', 'thỏ']]`\n",
        "\n",
        "The following steps comprise the encoding network:\n",
        "\n",
        "1. transform `source_words` into `source_words_embeddings` using a randomly initialized embedding lookup. source_words_embeddings is thus a `batch_size(num_sents) x max_sentence_length x embedding_dim` array.\n",
        "2. Apply embedding dropout of `embedding_dropout_rate`.\n",
        "3. Use a single `LSTM` with `hidden_size` units to learn a representation for the source words i.e. to encode the input. \n",
        "\n",
        "    (a.) The hidden and cell states for this `LSTM` are initialized to zeros (i.e. we leave the `initial_states = None` default as is).\n",
        "\n",
        "    (b.) We save the `encoder_output` (the sequence not just the last state); and the encoder (hidden and cell) states. \n",
        "\n",
        "This way, the model encodes a representation for the source words. Task 1 guides you to complete the encoder part of the training model.\n",
        "\n",
        "<br>\n",
        "\n",
        "**Decoder (No Attention)**\n",
        "\n",
        "Given:\n",
        "- `target_words`: a `batch_size(i.e.num_sents in batch) x max_sentence_length+1` array representing the target words. This is a time shifted translation of the source words with an added (prepended) `<START>` token `['<start>', 'i', 'like', 'rabbits']`.\n",
        "\n",
        "The decoding is in the following steps:\n",
        "\n",
        "1. transform `target_words` into `target_words_embeddings` using a randomly initialized embedding lookup. target_words_embeddings is thus a `batch_size x max_sentence_length+1 x embedding_dim` array.\n",
        "\n",
        "2.  Apply embedding dropout of `embedding_dropout_rate`.\n",
        "\n",
        "3. Use a single `LSTM` with `hidden_size` units to learn a representation for the target words. Some context is given to this model by using the encoder states to initialize the decoder lstm. This way the encoder state for `'tôi'` for example is used to learn to the representation (and next word prediction, see number 4.) for the `'<start>'` token, and so on.\n",
        "\n",
        "4. For each token representation, use a dense layer to predict a `target_vocab_size` vector which is the probability that any given word in the target vocabulary is the next word following the represented token. The output `decoder_outputs_train` is thus a `batch_size x max_sent_length x target_vocab_size` array.\n"
      ]
    },
    {
      "cell_type": "markdown",
      "metadata": {
        "id": "-4tsMpCYJUk1"
      },
      "source": [
        "###**The Inference Mode**\n",
        "\n",
        "**Encoder**\n",
        "\n",
        "The inference time encoding follows the same steps as training time encoding.\n",
        "\n",
        "<br>\n",
        "\n",
        "**Decoder (No attention)**\n",
        "\n",
        "During training time, we passed a `batch_size(num_sents) x max_sentence_length` array representing the target words into the decoder lstm. The decoder_lstm learns how to represent a given target sentence using the context from the encoder lstm (that learns to represent a source sentence).  \n",
        "\n",
        "At test time, several things are different:\n",
        "\n",
        "1. We no longer have access to a complete translation of the source sentence (recall that no target_words array exists for dev and test sets). Rather, we initialize the target_words_array as thus:\n",
        "\n",
        "    Each expected sentence contains only a single token index, the index of the `'<start>'` token. So, the target_word_dev/test is a `batch_size x 1` array. (see the nmt.eval() function for this)\n",
        "\n",
        "2. This `batch_size x 1` array is fed to the trained decoder_lstm and the predicted array is a `batch_size x 1 x target_vocab_size` such that taking the argmax of this array accross the dimension 2 will give the most probable next word. \n",
        "\n",
        "    For example, at time_step `0`, the first time step, where the `step_target_words` given is the `batch_size x 1` array containing the `'<start>'` token, the next word prediction of the decoder is for each sentence (in the batch) the initial word in the sentence. \n",
        "\n",
        "3. At the first time step, the decoder_lstm still uses the encoder_states as it's initial states. At subsequent time steps, it uses it's own states from the previous time steps. This is also what the decoder_lstm does at training time but it is made more explicit here as we loop over time steps using a for loop.\n",
        "(see nmt.eval())\n",
        "\n",
        "\n",
        "\n"
      ]
    },
    {
      "cell_type": "markdown",
      "metadata": {
        "id": "x2gPkKNDTuQs"
      },
      "source": [
        "***An encoder neural network reads and encodes a source sentence into a fixed-length vector. A decoder then outputs a translation from the encoded vector. The whole encoder–decoder system, which consists of the encoder and the decoder for a language pair, is jointly trained to maximize the probability of a correct translation given a source sentence.***"
      ]
    },
    {
      "cell_type": "markdown",
      "metadata": {
        "id": "wFIKOF5sed68"
      },
      "source": [
        "##**Training Without Attention**\n",
        "\n",
        "If you've completed Tasks 1 and 2, you are ready to train the NMT model without attention.\n",
        "\n",
        "Run the following cells to train the model for 10 epochs. It also shows the model summary of the each model you encapsulated.\n",
        "\n",
        "If you're using a GPU, training will no more than 10 minutes and you will get a BLEU score between 4 and 5. "
      ]
    },
    {
      "cell_type": "code",
      "metadata": {
        "colab": {
          "base_uri": "https://localhost:8080/"
        },
        "id": "8V5YoFP3yQO-",
        "outputId": "0d9ca961-01e8-43cd-d1ac-5dcd7bf15179"
      },
      "source": [
        "from google.colab import drive\n",
        "drive.mount('/content/drive/')"
      ],
      "execution_count": 1,
      "outputs": [
        {
          "output_type": "stream",
          "text": [
            "Mounted at /content/drive/\n"
          ],
          "name": "stdout"
        }
      ]
    },
    {
      "cell_type": "code",
      "metadata": {
        "id": "upXa_erqyzKm"
      },
      "source": [
        "# change this to the path to your folder. Remember to start from the home directory\n",
        "PATH = 'My Drive/Data/nmt_lab_files/' "
      ],
      "execution_count": 7,
      "outputs": []
    },
    {
      "cell_type": "code",
      "metadata": {
        "id": "ffbGcgrRy7p6"
      },
      "source": [
        "PATH_TO_FOLDER = \"/content/drive/\" + PATH"
      ],
      "execution_count": 8,
      "outputs": []
    },
    {
      "cell_type": "code",
      "metadata": {
        "id": "XfSgKakK0QgV"
      },
      "source": [
        "import sys\n",
        "sys.path.append(PATH_TO_FOLDER)"
      ],
      "execution_count": 9,
      "outputs": []
    },
    {
      "cell_type": "code",
      "metadata": {
        "id": "NmSgv44y0TN9"
      },
      "source": [
        "SOURCE_PATH = PATH_TO_FOLDER + 'data.30.vi'\n",
        "TARGET_PATH = PATH_TO_FOLDER + 'data.30.en'"
      ],
      "execution_count": 10,
      "outputs": []
    },
    {
      "cell_type": "code",
      "metadata": {
        "id": "OOTMtc_l0_ut"
      },
      "source": [
        "import nmt_model_keras as nmt "
      ],
      "execution_count": 11,
      "outputs": []
    },
    {
      "cell_type": "code",
      "metadata": {
        "colab": {
          "base_uri": "https://localhost:8080/"
        },
        "id": "IsO7wW6U1w2m",
        "outputId": "7883a70f-349e-466c-9727-1abdc1f3a40e"
      },
      "source": [
        "nmt.main(SOURCE_PATH, TARGET_PATH, use_attention=False)"
      ],
      "execution_count": 12,
      "outputs": [
        {
          "output_type": "stream",
          "text": [
            "loading dictionaries\n",
            "read 24000/3000/3000 train/dev/test batches\n",
            "number of tokens in source: 2034, number of tokens in target:2506\n",
            "Task 1(a): Creating the embedding lookups...\n",
            "\n",
            "Task 1(b): Looking up source and target words...\n",
            "\n",
            "Task 1(c): Creating an encoder\n",
            "WARNING:tensorflow:Layer lstm_1 will not use cuDNN kernel since it doesn't meet the cuDNN kernel criteria. It will use generic GPU kernel as fallback when running on GPU\n",
            "\t\t\t\t\t\t Train Model Summary.\n",
            "Model: \"model\"\n",
            "__________________________________________________________________________________________________\n",
            "Layer (type)                    Output Shape         Param #     Connected to                     \n",
            "==================================================================================================\n",
            "input_1 (InputLayer)            [(None, None)]       0                                            \n",
            "__________________________________________________________________________________________________\n",
            "input_2 (InputLayer)            [(None, None)]       0                                            \n",
            "__________________________________________________________________________________________________\n",
            "embedding (Embedding)           (None, None, 100)    203400      input_1[0][0]                    \n",
            "__________________________________________________________________________________________________\n",
            "embedding_1 (Embedding)         (None, None, 100)    250600      input_2[0][0]                    \n",
            "__________________________________________________________________________________________________\n",
            "dropout (Dropout)               (None, None, 100)    0           embedding[0][0]                  \n",
            "__________________________________________________________________________________________________\n",
            "dropout_1 (Dropout)             (None, None, 100)    0           embedding_1[0][0]                \n",
            "__________________________________________________________________________________________________\n",
            "lstm (LSTM)                     [(None, None, 200),  240800      dropout[0][0]                    \n",
            "__________________________________________________________________________________________________\n",
            "lstm_1 (LSTM)                   [(None, None, 200),  240800      dropout_1[0][0]                  \n",
            "                                                                 lstm[0][1]                       \n",
            "                                                                 lstm[0][2]                       \n",
            "__________________________________________________________________________________________________\n",
            "dense (Dense)                   (None, None, 2506)   503706      lstm_1[0][0]                     \n",
            "==================================================================================================\n",
            "Total params: 1,439,306\n",
            "Trainable params: 1,439,306\n",
            "Non-trainable params: 0\n",
            "__________________________________________________________________________________________________\n",
            "\t\t\t\t\t\t Inference Time Encoder Model Summary.\n",
            "Model: \"model_1\"\n",
            "_________________________________________________________________\n",
            "Layer (type)                 Output Shape              Param #   \n",
            "=================================================================\n",
            "input_1 (InputLayer)         [(None, None)]            0         \n",
            "_________________________________________________________________\n",
            "embedding (Embedding)        (None, None, 100)         203400    \n",
            "_________________________________________________________________\n",
            "dropout (Dropout)            (None, None, 100)         0         \n",
            "_________________________________________________________________\n",
            "lstm (LSTM)                  [(None, None, 200), (None 240800    \n",
            "=================================================================\n",
            "Total params: 444,200\n",
            "Trainable params: 444,200\n",
            "Non-trainable params: 0\n",
            "_________________________________________________________________\n",
            "\n",
            " Putting together the decoder states\n",
            "\t\t\t\t\t\t Decoder Inference Model summary\n",
            "Model: \"model_2\"\n",
            "__________________________________________________________________________________________________\n",
            "Layer (type)                    Output Shape         Param #     Connected to                     \n",
            "==================================================================================================\n",
            "input_2 (InputLayer)            [(None, None)]       0                                            \n",
            "__________________________________________________________________________________________________\n",
            "embedding_1 (Embedding)         (None, None, 100)    250600      input_2[0][0]                    \n",
            "__________________________________________________________________________________________________\n",
            "dropout_1 (Dropout)             (None, None, 100)    0           embedding_1[0][0]                \n",
            "__________________________________________________________________________________________________\n",
            "input_3 (InputLayer)            [(None, 200)]        0                                            \n",
            "__________________________________________________________________________________________________\n",
            "input_4 (InputLayer)            [(None, 200)]        0                                            \n",
            "__________________________________________________________________________________________________\n",
            "lstm_1 (LSTM)                   [(None, None, 200),  240800      dropout_1[0][0]                  \n",
            "                                                                 input_3[0][0]                    \n",
            "                                                                 input_4[0][0]                    \n",
            "__________________________________________________________________________________________________\n",
            "input_5 (InputLayer)            [(None, None, 200)]  0                                            \n",
            "__________________________________________________________________________________________________\n",
            "dense (Dense)                   (None, None, 2506)   503706      lstm_1[1][0]                     \n",
            "==================================================================================================\n",
            "Total params: 995,106\n",
            "Trainable params: 995,106\n",
            "Non-trainable params: 0\n",
            "__________________________________________________________________________________________________\n",
            "None\n",
            "Starting training epoch 1/10\n",
            "240/240 [==============================] - 49s 61ms/step - loss: 2.3781 - accuracy: 0.2003\n",
            "Time used for epoch 1: 0 m 49 s\n",
            "Evaluating on dev set after epoch 1/10:\n",
            "Model BLEU score: 1.43\n",
            "Time used for evaluate on dev set: 0 m 5 s\n",
            "Starting training epoch 2/10\n",
            "240/240 [==============================] - 15s 63ms/step - loss: 1.8130 - accuracy: 0.3104\n",
            "Time used for epoch 2: 0 m 15 s\n",
            "Evaluating on dev set after epoch 2/10:\n",
            "Model BLEU score: 2.87\n",
            "Time used for evaluate on dev set: 0 m 4 s\n",
            "Starting training epoch 3/10\n",
            "240/240 [==============================] - 13s 55ms/step - loss: 1.6810 - accuracy: 0.3483\n",
            "Time used for epoch 3: 0 m 13 s\n",
            "Evaluating on dev set after epoch 3/10:\n",
            "Model BLEU score: 3.77\n",
            "Time used for evaluate on dev set: 0 m 4 s\n",
            "Starting training epoch 4/10\n",
            "240/240 [==============================] - 16s 66ms/step - loss: 1.6000 - accuracy: 0.3659\n",
            "Time used for epoch 4: 0 m 15 s\n",
            "Evaluating on dev set after epoch 4/10:\n",
            "Model BLEU score: 4.42\n",
            "Time used for evaluate on dev set: 0 m 4 s\n",
            "Starting training epoch 5/10\n",
            "240/240 [==============================] - 15s 63ms/step - loss: 1.5430 - accuracy: 0.3764\n",
            "Time used for epoch 5: 0 m 15 s\n",
            "Evaluating on dev set after epoch 5/10:\n",
            "Model BLEU score: 5.15\n",
            "Time used for evaluate on dev set: 0 m 4 s\n",
            "Starting training epoch 6/10\n",
            "240/240 [==============================] - 15s 62ms/step - loss: 1.4995 - accuracy: 0.3843\n",
            "Time used for epoch 6: 0 m 14 s\n",
            "Evaluating on dev set after epoch 6/10:\n",
            "Model BLEU score: 5.61\n",
            "Time used for evaluate on dev set: 0 m 5 s\n",
            "Starting training epoch 7/10\n",
            "240/240 [==============================] - 15s 61ms/step - loss: 1.4641 - accuracy: 0.3899\n",
            "Time used for epoch 7: 0 m 14 s\n",
            "Evaluating on dev set after epoch 7/10:\n",
            "Model BLEU score: 5.44\n",
            "Time used for evaluate on dev set: 0 m 4 s\n",
            "Starting training epoch 8/10\n",
            "240/240 [==============================] - 16s 65ms/step - loss: 1.4353 - accuracy: 0.3949\n",
            "Time used for epoch 8: 0 m 15 s\n",
            "Evaluating on dev set after epoch 8/10:\n",
            "Model BLEU score: 5.80\n",
            "Time used for evaluate on dev set: 0 m 4 s\n",
            "Starting training epoch 9/10\n",
            "240/240 [==============================] - 14s 60ms/step - loss: 1.4093 - accuracy: 0.3988\n",
            "Time used for epoch 9: 0 m 14 s\n",
            "Evaluating on dev set after epoch 9/10:\n",
            "Model BLEU score: 5.78\n",
            "Time used for evaluate on dev set: 0 m 4 s\n",
            "Starting training epoch 10/10\n",
            "240/240 [==============================] - 14s 59ms/step - loss: 1.3878 - accuracy: 0.4021\n",
            "Time used for epoch 10: 0 m 14 s\n",
            "Evaluating on dev set after epoch 10/10:\n",
            "Model BLEU score: 5.90\n",
            "Time used for evaluate on dev set: 0 m 4 s\n",
            "Training finished!\n",
            "Time used for training: 3 m 52 s\n",
            "Evaluating on test set:\n",
            "Model BLEU score: 5.96\n",
            "Time used for evaluate on test set: 0 m 4 s\n"
          ],
          "name": "stdout"
        }
      ]
    },
    {
      "cell_type": "markdown",
      "metadata": {
        "id": "88UqdnstN7nQ"
      },
      "source": [
        "**Bleu score for the validation set came out to be 5.90**\n",
        "\n",
        "**Bleu score for test set came out to be 5.96.**"
      ]
    },
    {
      "cell_type": "markdown",
      "metadata": {
        "id": "jOAsyHLfUZfp"
      },
      "source": [
        "***A potential issue with this encoder–decoder approach is that a neural network needs to be able to\n",
        "compress all the necessary information of a source sentence into a fixed-length vector.***\n",
        "\n",
        "***This may\n",
        "make it difficult for the neural network to cope with long sentences, especially those that are longer\n",
        "than the sentences in the training corpus and that's why we get a low BLEU score.***"
      ]
    },
    {
      "cell_type": "markdown",
      "metadata": {
        "id": "dlMDC3DJi12c"
      },
      "source": [
        "##**Decoding with Attention**"
      ]
    },
    {
      "cell_type": "markdown",
      "metadata": {
        "id": "4cQKwvFqurVY"
      },
      "source": [
        "The inputs to the attention layer are encoder and decoder outputs. The attention mechanism:\n",
        "1. Computes a score (a luong score) for each source word\n",
        "2. Weights the words by their luong scores.\n",
        "3. Concatenates the wieghted encoder representation with the decoder_ouput.\n",
        "This new decoder output will now be the input to the decoder_dense layer. \n",
        "\n",
        "Task 3 description in the doc file outlines the steps for this in detail. Once you have completed this Task, you are now ready to train with attention. Training time will be no more than 10 minutes using a GPU and you should get a bleu score of about 15."
      ]
    },
    {
      "cell_type": "markdown",
      "metadata": {
        "id": "xQ1hzE-tU0dT"
      },
      "source": [
        "***Each time this model with attention generates a word in a translation, it\n",
        "(soft-)searches for a set of positions in a source sentence where the most relevant information is\n",
        "concentrated.*** \n",
        "\n",
        "***This model then predicts a target word based on the context vectors associated with\n",
        "these source positions and all the previous generated target words.***"
      ]
    },
    {
      "cell_type": "code",
      "metadata": {
        "colab": {
          "base_uri": "https://localhost:8080/"
        },
        "id": "23t6wfpLkb2F",
        "outputId": "1ea45a85-44b2-4709-82ec-665e17c6c2e3"
      },
      "source": [
        "nmt.main(SOURCE_PATH, TARGET_PATH, use_attention=True)"
      ],
      "execution_count": 13,
      "outputs": [
        {
          "output_type": "stream",
          "text": [
            "loading dictionaries\n",
            "read 24000/3000/3000 train/dev/test batches\n",
            "number of tokens in source: 2034, number of tokens in target:2506\n",
            "Task 1(a): Creating the embedding lookups...\n",
            "\n",
            "Task 1(b): Looking up source and target words...\n",
            "\n",
            "Task 1(c): Creating an encoder\n",
            "WARNING:tensorflow:Layer lstm_3 will not use cuDNN kernel since it doesn't meet the cuDNN kernel criteria. It will use generic GPU kernel as fallback when running on GPU\n",
            "\t\t\t\t\t\t Train Model Summary.\n",
            "Model: \"model_3\"\n",
            "__________________________________________________________________________________________________\n",
            "Layer (type)                    Output Shape         Param #     Connected to                     \n",
            "==================================================================================================\n",
            "input_6 (InputLayer)            [(None, None)]       0                                            \n",
            "__________________________________________________________________________________________________\n",
            "embedding_2 (Embedding)         (None, None, 100)    203400      input_6[0][0]                    \n",
            "__________________________________________________________________________________________________\n",
            "input_7 (InputLayer)            [(None, None)]       0                                            \n",
            "__________________________________________________________________________________________________\n",
            "dropout_2 (Dropout)             (None, None, 100)    0           embedding_2[0][0]                \n",
            "__________________________________________________________________________________________________\n",
            "embedding_3 (Embedding)         (None, None, 100)    250600      input_7[0][0]                    \n",
            "__________________________________________________________________________________________________\n",
            "lstm_2 (LSTM)                   [(None, None, 200),  240800      dropout_2[0][0]                  \n",
            "__________________________________________________________________________________________________\n",
            "dropout_3 (Dropout)             (None, None, 100)    0           embedding_3[0][0]                \n",
            "__________________________________________________________________________________________________\n",
            "lstm_3 (LSTM)                   [(None, None, 200),  240800      dropout_3[0][0]                  \n",
            "                                                                 lstm_2[0][1]                     \n",
            "                                                                 lstm_2[0][2]                     \n",
            "__________________________________________________________________________________________________\n",
            "attention_layer (AttentionLayer (None, None, 400)    0           lstm_2[0][0]                     \n",
            "                                                                 lstm_3[0][0]                     \n",
            "__________________________________________________________________________________________________\n",
            "dense_1 (Dense)                 (None, None, 2506)   1004906     attention_layer[0][0]            \n",
            "==================================================================================================\n",
            "Total params: 1,940,506\n",
            "Trainable params: 1,940,506\n",
            "Non-trainable params: 0\n",
            "__________________________________________________________________________________________________\n",
            "\t\t\t\t\t\t Inference Time Encoder Model Summary.\n",
            "Model: \"model_4\"\n",
            "_________________________________________________________________\n",
            "Layer (type)                 Output Shape              Param #   \n",
            "=================================================================\n",
            "input_6 (InputLayer)         [(None, None)]            0         \n",
            "_________________________________________________________________\n",
            "embedding_2 (Embedding)      (None, None, 100)         203400    \n",
            "_________________________________________________________________\n",
            "dropout_2 (Dropout)          (None, None, 100)         0         \n",
            "_________________________________________________________________\n",
            "lstm_2 (LSTM)                [(None, None, 200), (None 240800    \n",
            "=================================================================\n",
            "Total params: 444,200\n",
            "Trainable params: 444,200\n",
            "Non-trainable params: 0\n",
            "_________________________________________________________________\n",
            "\n",
            " Putting together the decoder states\n",
            "\t\t\t\t\t\t Decoder Inference Model summary\n",
            "Model: \"model_5\"\n",
            "__________________________________________________________________________________________________\n",
            "Layer (type)                    Output Shape         Param #     Connected to                     \n",
            "==================================================================================================\n",
            "input_7 (InputLayer)            [(None, None)]       0                                            \n",
            "__________________________________________________________________________________________________\n",
            "embedding_3 (Embedding)         (None, None, 100)    250600      input_7[0][0]                    \n",
            "__________________________________________________________________________________________________\n",
            "dropout_3 (Dropout)             (None, None, 100)    0           embedding_3[0][0]                \n",
            "__________________________________________________________________________________________________\n",
            "input_8 (InputLayer)            [(None, 200)]        0                                            \n",
            "__________________________________________________________________________________________________\n",
            "input_9 (InputLayer)            [(None, 200)]        0                                            \n",
            "__________________________________________________________________________________________________\n",
            "input_10 (InputLayer)           [(None, None, 200)]  0                                            \n",
            "__________________________________________________________________________________________________\n",
            "lstm_3 (LSTM)                   [(None, None, 200),  240800      dropout_3[0][0]                  \n",
            "                                                                 input_8[0][0]                    \n",
            "                                                                 input_9[0][0]                    \n",
            "__________________________________________________________________________________________________\n",
            "attention_layer_1 (AttentionLay (None, None, 400)    0           input_10[0][0]                   \n",
            "                                                                 lstm_3[1][0]                     \n",
            "__________________________________________________________________________________________________\n",
            "dense_1 (Dense)                 (None, None, 2506)   1004906     attention_layer_1[0][0]          \n",
            "==================================================================================================\n",
            "Total params: 1,496,306\n",
            "Trainable params: 1,496,306\n",
            "Non-trainable params: 0\n",
            "__________________________________________________________________________________________________\n",
            "None\n",
            "Starting training epoch 1/10\n",
            "240/240 [==============================] - 20s 68ms/step - loss: 2.3417 - accuracy: 0.2069\n",
            "Time used for epoch 1: 0 m 20 s\n",
            "Evaluating on dev set after epoch 1/10:\n",
            "Model BLEU score: 6.13\n",
            "Time used for evaluate on dev set: 0 m 6 s\n",
            "Starting training epoch 2/10\n",
            "240/240 [==============================] - 16s 67ms/step - loss: 1.5310 - accuracy: 0.4151\n",
            "Time used for epoch 2: 0 m 16 s\n",
            "Evaluating on dev set after epoch 2/10:\n",
            "Model BLEU score: 11.40\n",
            "Time used for evaluate on dev set: 0 m 5 s\n",
            "Starting training epoch 3/10\n",
            "240/240 [==============================] - 16s 67ms/step - loss: 1.2796 - accuracy: 0.4697\n",
            "Time used for epoch 3: 0 m 16 s\n",
            "Evaluating on dev set after epoch 3/10:\n",
            "Model BLEU score: 13.55\n",
            "Time used for evaluate on dev set: 0 m 5 s\n",
            "Starting training epoch 4/10\n",
            "240/240 [==============================] - 17s 69ms/step - loss: 1.1405 - accuracy: 0.5003\n",
            "Time used for epoch 4: 0 m 16 s\n",
            "Evaluating on dev set after epoch 4/10:\n",
            "Model BLEU score: 15.18\n",
            "Time used for evaluate on dev set: 0 m 5 s\n",
            "Starting training epoch 5/10\n",
            "240/240 [==============================] - 17s 72ms/step - loss: 1.0522 - accuracy: 0.5213\n",
            "Time used for epoch 5: 0 m 17 s\n",
            "Evaluating on dev set after epoch 5/10:\n",
            "Model BLEU score: 15.25\n",
            "Time used for evaluate on dev set: 0 m 5 s\n",
            "Starting training epoch 6/10\n",
            "240/240 [==============================] - 16s 66ms/step - loss: 0.9913 - accuracy: 0.5359\n",
            "Time used for epoch 6: 0 m 15 s\n",
            "Evaluating on dev set after epoch 6/10:\n",
            "Model BLEU score: 15.34\n",
            "Time used for evaluate on dev set: 0 m 5 s\n",
            "Starting training epoch 7/10\n",
            "240/240 [==============================] - 17s 69ms/step - loss: 0.9454 - accuracy: 0.5486\n",
            "Time used for epoch 7: 0 m 16 s\n",
            "Evaluating on dev set after epoch 7/10:\n",
            "Model BLEU score: 15.63\n",
            "Time used for evaluate on dev set: 0 m 5 s\n",
            "Starting training epoch 8/10\n",
            "240/240 [==============================] - 16s 67ms/step - loss: 0.9114 - accuracy: 0.5595\n",
            "Time used for epoch 8: 0 m 16 s\n",
            "Evaluating on dev set after epoch 8/10:\n",
            "Model BLEU score: 15.97\n",
            "Time used for evaluate on dev set: 0 m 5 s\n",
            "Starting training epoch 9/10\n",
            "240/240 [==============================] - 16s 68ms/step - loss: 0.8819 - accuracy: 0.5674\n",
            "Time used for epoch 9: 0 m 16 s\n",
            "Evaluating on dev set after epoch 9/10:\n",
            "Model BLEU score: 15.46\n",
            "Time used for evaluate on dev set: 0 m 5 s\n",
            "Starting training epoch 10/10\n",
            "240/240 [==============================] - 18s 73ms/step - loss: 0.8588 - accuracy: 0.5739\n",
            "Time used for epoch 10: 0 m 17 s\n",
            "Evaluating on dev set after epoch 10/10:\n",
            "Model BLEU score: 15.40\n",
            "Time used for evaluate on dev set: 0 m 5 s\n",
            "Training finished!\n",
            "Time used for training: 3 m 44 s\n",
            "Evaluating on test set:\n",
            "Model BLEU score: 15.86\n",
            "Time used for evaluate on test set: 0 m 5 s\n"
          ],
          "name": "stdout"
        }
      ]
    },
    {
      "cell_type": "markdown",
      "metadata": {
        "id": "YfOOYWu2UWOL"
      },
      "source": [
        "***As we can see the BLEU score increased significantly to 15.40 for the validation data and 15.86 for the test set.***\n",
        "\n",
        "***The most important distinguishing feature of this approach with attention from the basic encoder–decoder is that\n",
        "it does not attempt to encode a whole input sentence into a single fixed-length vector.***\n",
        "\n",
        "***Instead, it encodes the input sentence into a sequence of vectors and chooses a subset of these vectors adaptively\n",
        "while decoding the translation.*** \n",
        "\n",
        "***This frees a neural translation model from having to squash all the\n",
        "information of a source sentence, regardless of its length, into a fixed-length vector.***\n",
        "\n",
        "**This\n",
        "allows a model to cope better with long sentences.**\n"
      ]
    },
    {
      "cell_type": "code",
      "metadata": {
        "id": "oUOUAjLYpCMk"
      },
      "source": [
        ""
      ],
      "execution_count": null,
      "outputs": []
    }
  ]
}